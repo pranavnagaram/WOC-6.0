{
  "nbformat": 4,
  "nbformat_minor": 0,
  "metadata": {
    "colab": {
      "provenance": []
    },
    "kernelspec": {
      "name": "python3",
      "display_name": "Python 3"
    },
    "language_info": {
      "name": "python"
    }
  },
  "cells": [
    {
      "cell_type": "code",
      "execution_count": 1,
      "metadata": {
        "id": "ZEUHMe1KSoK3"
      },
      "outputs": [],
      "source": [
        "import numpy as np\n",
        "import pandas as pd\n",
        "import matplotlib.pyplot as plt\n",
        "import random"
      ]
    },
    {
      "cell_type": "code",
      "source": [
        "from google.colab import drive\n",
        "drive.mount('/content/drive/')"
      ],
      "metadata": {
        "colab": {
          "base_uri": "https://localhost:8080/"
        },
        "id": "CZdXuNnsS1Y7",
        "outputId": "38e9aeb9-9270-49b2-c088-0c7a3d745e55"
      },
      "execution_count": 2,
      "outputs": [
        {
          "output_type": "stream",
          "name": "stdout",
          "text": [
            "Mounted at /content/drive/\n"
          ]
        }
      ]
    },
    {
      "cell_type": "code",
      "source": [
        "df=pd.read_csv('/content/drive/MyDrive/woc/Kmean_dataset.csv')\n",
        "x_train=np.array(df.iloc[:,:], dtype=\"int\")\n",
        "#x_test=np.array(df.iloc[,:], dtype=\"int\")\n",
        "x_train.shape"
      ],
      "metadata": {
        "colab": {
          "base_uri": "https://localhost:8080/"
        },
        "id": "wr7Uru_NS348",
        "outputId": "1b68fa24-6b5b-4741-c909-ae8c27d082f3"
      },
      "execution_count": 8,
      "outputs": [
        {
          "output_type": "execute_result",
          "data": {
            "text/plain": [
              "(178, 13)"
            ]
          },
          "metadata": {},
          "execution_count": 8
        }
      ]
    },
    {
      "cell_type": "code",
      "source": [
        "class KM_cluster:\n",
        "  def __init__(self,k,iterations):\n",
        "      self.k=k\n",
        "      self.iterations=iterations\n",
        "      self.initialized = False\n",
        "  def Normalize(self,x):\n",
        "       min=np.min(np.unique(x))\n",
        "       max=np.max(np.unique(x))\n",
        "       X=(x-min)/(max-min)\n",
        "       return X\n",
        "  def initialize_centroids(self, n):\n",
        "      if not self.initialized:\n",
        "          self.c=np.random.rand(self.k, n)\n",
        "          self.initialized=True\n",
        "  def euclidean_dist(self,x,y):\n",
        "      d=np.sqrt(np.sum((x-y)**2,axis=1))\n",
        "      return d\n",
        "  def Train(self,x):\n",
        "      m=x.shape[0]\n",
        "      n=x.shape[1]\n",
        "      X=self.Normalize(x)\n",
        "      self.initialize_centroids(n)\n",
        "      V=[]\n",
        "      for _ in range(self.iterations):\n",
        "         E=np.array([self.euclidean_dist(X, self.c[i]) for i in range(self.k)]).T\n",
        "         minc=np.argmin(E, axis=0)\n",
        "         for i in range(self.k):\n",
        "            pts=np.where(minc==i)[0]\n",
        "            if len(pts)>0:\n",
        "              self.c[i]=np.mean(X[pts], axis=0)\n",
        "         variation = np.sum(np.min(E, axis=0).reshape(1,-1),axis=1)\n",
        "         V.append(variation)\n",
        "      \"\"\"plt.plot(np.arange(self.iterations),V)\n",
        "      plt.ylabel(\"Variation\")\n",
        "      plt.xlabel(\"Iterations\")\"\"\"\n",
        "      return V[-1]"
      ],
      "metadata": {
        "id": "2q2OEWpCS8wv"
      },
      "execution_count": 59,
      "outputs": []
    },
    {
      "cell_type": "code",
      "source": [
        "V=float('inf')\n",
        "k=None\n",
        "l=[]\n",
        "for i in range(9,20,2):\n",
        "  K=KM_cluster(i,15)\n",
        "  loss=K.Train(x_train)\n",
        "  l.append(loss)\n",
        "  if loss < V:\n",
        "    V=loss\n",
        "    k=i\n",
        "\n",
        "print(f\"The least value of loss is for k={k}\")\n",
        "plt.plot(range(9,20,2),l)\n",
        "plt.xlabel(\"k\")\n",
        "plt.ylabel(\"variation\")"
      ],
      "metadata": {
        "colab": {
          "base_uri": "https://localhost:8080/",
          "height": 484
        },
        "id": "wgZzPeXXx9Tf",
        "outputId": "f3b40b20-abbb-4f16-bf0e-1ac886ca93e4"
      },
      "execution_count": 77,
      "outputs": [
        {
          "output_type": "stream",
          "name": "stdout",
          "text": [
            "The least value of loss is for k=11\n"
          ]
        },
        {
          "output_type": "execute_result",
          "data": {
            "text/plain": [
              "Text(0, 0.5, 'variation')"
            ]
          },
          "metadata": {},
          "execution_count": 77
        },
        {
          "output_type": "display_data",
          "data": {
            "text/plain": [
              "<Figure size 640x480 with 1 Axes>"
            ],
            "image/png": "[encoded data removed]"
          },
          "metadata": {}
        }
      ]
    },
    {
      "cell_type": "code",
      "source": [],
      "metadata": {
        "id": "6GgST9PiPZKq"
      },
      "execution_count": null,
      "outputs": []
    }
  ]
}