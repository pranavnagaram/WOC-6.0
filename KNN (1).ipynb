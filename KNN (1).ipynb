{
  "nbformat": 4,
  "nbformat_minor": 0,
  "metadata": {
    "colab": {
      "provenance": []
    },
    "kernelspec": {
      "name": "python3",
      "display_name": "Python 3"
    },
    "language_info": {
      "name": "python"
    }
  },
  "cells": [
    {
      "cell_type": "code",
      "execution_count": 1,
      "metadata": {
        "id": "nAYyYJ6-xvu4"
      },
      "outputs": [],
      "source": [
        "import numpy as np\n",
        "import pandas as pd\n",
        "import matplotlib.pyplot as plt\n",
        "import random"
      ]
    },
    {
      "cell_type": "code",
      "source": [
        "from google.colab import drive\n",
        "drive.mount('/content/drive/')"
      ],
      "metadata": {
        "colab": {
          "base_uri": "https://localhost:8080/"
        },
        "id": "ERO4VVxuxyMn",
        "outputId": "71c13020-7e17-455f-caff-610ecc0fa910"
      },
      "execution_count": 2,
      "outputs": [
        {
          "output_type": "stream",
          "name": "stdout",
          "text": [
            "Mounted at /content/drive/\n"
          ]
        }
      ]
    },
    {
      "cell_type": "code",
      "source": [
        "df = pd.read_csv('/content/drive/MyDrive/woc/Classification_train.csv')\n",
        "x_train = np.array(df.iloc[0:20000,1:], dtype=\"int\")/256\n",
        "y_train =np.array(df.iloc[0:20000,0:1], dtype=\"int\")\n",
        "x_test = np.array(df.iloc[20000:,1:], dtype=\"int\")/256\n",
        "y_test =np.array(df.iloc[20000:,0:1], dtype=\"int\")\n",
        "y_train"
      ],
      "metadata": {
        "id": "2LIt65qjx0Im",
        "outputId": "fea5110c-8699-456c-c7f2-99ab41efe553",
        "colab": {
          "base_uri": "https://localhost:8080/"
        }
      },
      "execution_count": 27,
      "outputs": [
        {
          "output_type": "execute_result",
          "data": {
            "text/plain": [
              "array([[0],\n",
              "       [8],\n",
              "       [1],\n",
              "       ...,\n",
              "       [2],\n",
              "       [5],\n",
              "       [7]])"
            ]
          },
          "metadata": {},
          "execution_count": 27
        }
      ]
    },
    {
      "cell_type": "code",
      "source": [
        "class KNN:\n",
        "  def __init__(self,k,distance='absolute'):\n",
        "      self.k=k\n",
        "      self.distance=distance\n",
        "  \"\"\"def euclidean_dist(self,x,y):\n",
        "      d=np.sqrt(np.sum((x-y)**2,axis=1))\n",
        "      return d\"\"\"\n",
        "  def euclidean_dist(self,x,y): #vectorizing\n",
        "      y=y.reshape(1,-1)\n",
        "      x2=(x**2).sum(axis=1).reshape((-1, 1))\n",
        "      y2=(y**2).sum(axis=1)\n",
        "      xy=2*np.dot(x,y.T)\n",
        "      return np.sqrt(x2+y2-xy)\n",
        "  def abs_dist(self,x,y):\n",
        "      d=np.sum(np.abs(x-y),axis=1)\n",
        "      return d\n",
        "  def mode(self, arr):\n",
        "    max_count=0\n",
        "    mode_value=None\n",
        "    for value in arr:\n",
        "      count=sum(1 for v in arr if np.array_equal(v, value))\n",
        "      if count>max_count:\n",
        "        max_count=count\n",
        "        mode_value=value\n",
        "    return mode_value\n",
        "  def Train(self,x,y):\n",
        "      self.x_t=x\n",
        "      self.y_t=y\n",
        "      self.m=x.shape[0]\n",
        "      self.n=x.shape[1]\n",
        "  def Predict(self,x):\n",
        "      E=[]\n",
        "      for i in range(x.shape[0]):\n",
        "        if self.distance == 'absolute':\n",
        "          D=self.abs_dist(self.x_t,x[i])\n",
        "        else:\n",
        "          D=self.euclidean_dist(self.x_t,x[i])\n",
        "\n",
        "        Df=D.reshape(1,-1)\n",
        "        mins=np.argsort(Df)[:self.k]\n",
        "        y_pred=[self.y_t[j] for j in mins]\n",
        "        y_pred=self.mode(y_pred)\n",
        "        E.append(y_pred[0])\n",
        "      return E\n",
        "  def Accuracy(self,x,y):\n",
        "      Y_pred=self.Predict(x)\n",
        "      a=np.mean((y==Y_pred))\n",
        "      return a*100"
      ],
      "metadata": {
        "id": "faJrKFj5x4KC"
      },
      "execution_count": 17,
      "outputs": []
    },
    {
      "cell_type": "code",
      "source": [
        "k=KNN(7)"
      ],
      "metadata": {
        "id": "DRhwH897zE3M"
      },
      "execution_count": 23,
      "outputs": []
    },
    {
      "cell_type": "code",
      "source": [
        "k.Train(x_train,y_train)\n",
        "k.Accuracy(x_test,y_test)"
      ],
      "metadata": {
        "id": "yBAsM7W9az9f"
      },
      "execution_count": null,
      "outputs": []
    },
    {
      "cell_type": "code",
      "source": [
        "k=KNN(6,'euclidean')"
      ],
      "metadata": {
        "id": "bS437iUWlKQ3"
      },
      "execution_count": 25,
      "outputs": []
    },
    {
      "cell_type": "code",
      "source": [
        "k.Train(x_train,y_train)\n",
        "k.Accuracy(x_test,y_test)"
      ],
      "metadata": {
        "colab": {
          "base_uri": "https://localhost:8080/"
        },
        "id": "w5ANCyhDs9V1",
        "outputId": "65061a9f-a210-44b2-dd1f-8554a0ce9768"
      },
      "execution_count": 28,
      "outputs": [
        {
          "output_type": "execute_result",
          "data": {
            "text/plain": [
              "98.37"
            ]
          },
          "metadata": {},
          "execution_count": 28
        }
      ]
    },
    {
      "cell_type": "code",
      "source": [],
      "metadata": {
        "id": "KBliUb4A7xUc"
      },
      "execution_count": null,
      "outputs": []
    }
  ]
}